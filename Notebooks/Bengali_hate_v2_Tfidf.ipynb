{
 "cells": [
  {
   "cell_type": "code",
   "execution_count": 1,
   "metadata": {
    "executionInfo": {
     "elapsed": 1870,
     "status": "ok",
     "timestamp": 1652590601542,
     "user": {
      "displayName": "James Bond",
      "userId": "11920866519642454256"
     },
     "user_tz": -360
    },
    "id": "dCtTq54rzLT-"
   },
   "outputs": [],
   "source": [
    "import numpy as np\n",
    "import pandas as pd\n",
    "import matplotlib.pyplot as plt\n",
    "%matplotlib inline\n",
    "import seaborn as sns\n",
    "import re,nltk"
   ]
  },
  {
   "cell_type": "code",
   "execution_count": 2,
   "metadata": {
    "colab": {
     "base_uri": "https://localhost:8080/",
     "height": 206
    },
    "executionInfo": {
     "elapsed": 2087,
     "status": "ok",
     "timestamp": 1652590603625,
     "user": {
      "displayName": "James Bond",
      "userId": "11920866519642454256"
     },
     "user_tz": -360
    },
    "id": "RY7cmNqfzS-u",
    "outputId": "1624d8da-76a8-474b-bd80-686e311b2eb7"
   },
   "outputs": [
    {
     "data": {
      "text/html": [
       "<div>\n",
       "<style scoped>\n",
       "    .dataframe tbody tr th:only-of-type {\n",
       "        vertical-align: middle;\n",
       "    }\n",
       "\n",
       "    .dataframe tbody tr th {\n",
       "        vertical-align: top;\n",
       "    }\n",
       "\n",
       "    .dataframe thead th {\n",
       "        text-align: right;\n",
       "    }\n",
       "</style>\n",
       "<table border=\"1\" class=\"dataframe\">\n",
       "  <thead>\n",
       "    <tr style=\"text-align: right;\">\n",
       "      <th></th>\n",
       "      <th>Sentence</th>\n",
       "      <th>Label</th>\n",
       "      <th>target</th>\n",
       "    </tr>\n",
       "  </thead>\n",
       "  <tbody>\n",
       "    <tr>\n",
       "      <th>0</th>\n",
       "      <td>বৌদির দুধ দেকে তো আমার ই চোখ ঠিক ছিলো না - পোল...</td>\n",
       "      <td>Personal</td>\n",
       "      <td>0</td>\n",
       "    </tr>\n",
       "    <tr>\n",
       "      <th>1</th>\n",
       "      <td>এই সরকার কে যারা নির্লজ্জের মত সাপোর্ট দিয়েছে ...</td>\n",
       "      <td>Political</td>\n",
       "      <td>1</td>\n",
       "    </tr>\n",
       "    <tr>\n",
       "      <th>2</th>\n",
       "      <td>পিলখানা হত্যাকান্ড বাংলাদেশের প্রতিরক্ষা ব্যবস...</td>\n",
       "      <td>Geopolitical</td>\n",
       "      <td>3</td>\n",
       "    </tr>\n",
       "    <tr>\n",
       "      <th>3</th>\n",
       "      <td>ভারতের অর্থনীতি নিয়ে আপনাদের ভাবতে হবে না। ভা...</td>\n",
       "      <td>Geopolitical</td>\n",
       "      <td>3</td>\n",
       "    </tr>\n",
       "    <tr>\n",
       "      <th>4</th>\n",
       "      <td>খানকির পুলা মালায়নদের মেরে সাফা করে ফেল</td>\n",
       "      <td>Personal</td>\n",
       "      <td>0</td>\n",
       "    </tr>\n",
       "  </tbody>\n",
       "</table>\n",
       "</div>"
      ],
      "text/plain": [
       "                                            Sentence         Label  target\n",
       "0  বৌদির দুধ দেকে তো আমার ই চোখ ঠিক ছিলো না - পোল...      Personal       0\n",
       "1  এই সরকার কে যারা নির্লজ্জের মত সাপোর্ট দিয়েছে ...     Political       1\n",
       "2  পিলখানা হত্যাকান্ড বাংলাদেশের প্রতিরক্ষা ব্যবস...  Geopolitical       3\n",
       "3  ভারতের অর্থনীতি নিয়ে আপনাদের ভাবতে হবে না। ভা...  Geopolitical       3\n",
       "4            খানকির পুলা মালায়নদের মেরে সাফা করে ফেল      Personal       0"
      ]
     },
     "execution_count": 2,
     "metadata": {},
     "output_type": "execute_result"
    }
   ],
   "source": [
    "data =pd.read_excel('../data/bengali_hate_v2.xlsx')\n",
    "data.head()"
   ]
  },
  {
   "cell_type": "code",
   "execution_count": 3,
   "metadata": {
    "colab": {
     "base_uri": "https://localhost:8080/",
     "height": 175
    },
    "executionInfo": {
     "elapsed": 21,
     "status": "ok",
     "timestamp": 1652590603626,
     "user": {
      "displayName": "James Bond",
      "userId": "11920866519642454256"
     },
     "user_tz": -360
    },
    "id": "Je0YexouPpdY",
    "outputId": "55d6a45e-8a87-42a5-a8f1-c4caf21016c0"
   },
   "outputs": [
    {
     "data": {
      "text/html": [
       "<div>\n",
       "<style scoped>\n",
       "    .dataframe tbody tr th:only-of-type {\n",
       "        vertical-align: middle;\n",
       "    }\n",
       "\n",
       "    .dataframe tbody tr th {\n",
       "        vertical-align: top;\n",
       "    }\n",
       "\n",
       "    .dataframe thead th {\n",
       "        text-align: right;\n",
       "    }\n",
       "</style>\n",
       "<table border=\"1\" class=\"dataframe\">\n",
       "  <thead>\n",
       "    <tr style=\"text-align: right;\">\n",
       "      <th></th>\n",
       "      <th>Label</th>\n",
       "      <th>counts</th>\n",
       "    </tr>\n",
       "  </thead>\n",
       "  <tbody>\n",
       "    <tr>\n",
       "      <th>0</th>\n",
       "      <td>Geopolitical</td>\n",
       "      <td>1738</td>\n",
       "    </tr>\n",
       "    <tr>\n",
       "      <th>1</th>\n",
       "      <td>Personal</td>\n",
       "      <td>2189</td>\n",
       "    </tr>\n",
       "    <tr>\n",
       "      <th>2</th>\n",
       "      <td>Political</td>\n",
       "      <td>814</td>\n",
       "    </tr>\n",
       "    <tr>\n",
       "      <th>3</th>\n",
       "      <td>Religious</td>\n",
       "      <td>957</td>\n",
       "    </tr>\n",
       "  </tbody>\n",
       "</table>\n",
       "</div>"
      ],
      "text/plain": [
       "          Label  counts\n",
       "0  Geopolitical    1738\n",
       "1      Personal    2189\n",
       "2     Political     814\n",
       "3     Religious     957"
      ]
     },
     "execution_count": 3,
     "metadata": {},
     "output_type": "execute_result"
    }
   ],
   "source": [
    "data.groupby('Label').size().reset_index(name='counts')"
   ]
  },
  {
   "cell_type": "code",
   "execution_count": 6,
   "metadata": {
    "colab": {
     "base_uri": "https://localhost:8080/"
    },
    "executionInfo": {
     "elapsed": 21,
     "status": "ok",
     "timestamp": 1652590603629,
     "user": {
      "displayName": "James Bond",
      "userId": "11920866519642454256"
     },
     "user_tz": -360
    },
    "id": "2amnupuNmj7_",
    "outputId": "30a429f4-5f4c-403f-fcea-428034ac5e36"
   },
   "outputs": [
    {
     "name": "stdout",
     "output_type": "stream",
     "text": [
      "<class 'pandas.core.frame.DataFrame'>\n",
      "RangeIndex: 5698 entries, 0 to 5697\n",
      "Data columns (total 3 columns):\n",
      " #   Column    Non-Null Count  Dtype \n",
      "---  ------    --------------  ----- \n",
      " 0   Sentence  5698 non-null   object\n",
      " 1   Label     5698 non-null   object\n",
      " 2   target    5698 non-null   int64 \n",
      "dtypes: int64(1), object(2)\n",
      "memory usage: 133.7+ KB\n"
     ]
    }
   ],
   "source": [
    "data.info()"
   ]
  },
  {
   "cell_type": "code",
   "execution_count": 7,
   "metadata": {
    "executionInfo": {
     "elapsed": 18,
     "status": "ok",
     "timestamp": 1652590603630,
     "user": {
      "displayName": "James Bond",
      "userId": "11920866519642454256"
     },
     "user_tz": -360
    },
    "id": "U1BGJS6tnbiX"
   },
   "outputs": [],
   "source": [
    "data.dropna(inplace=True)"
   ]
  },
  {
   "cell_type": "code",
   "execution_count": 8,
   "metadata": {
    "colab": {
     "base_uri": "https://localhost:8080/",
     "height": 297
    },
    "executionInfo": {
     "elapsed": 947,
     "status": "ok",
     "timestamp": 1652590604560,
     "user": {
      "displayName": "James Bond",
      "userId": "11920866519642454256"
     },
     "user_tz": -360
    },
    "id": "zK8nZ1r7nEZ-",
    "outputId": "940bb7f3-21d7-484b-b89c-10e75c4ec98f"
   },
   "outputs": [
    {
     "data": {
      "text/plain": [
       "<AxesSubplot:xlabel='Label', ylabel='count'>"
      ]
     },
     "execution_count": 8,
     "metadata": {},
     "output_type": "execute_result"
    },
    {
     "data": {
      "image/png": "[encoded data removed]",
      "text/plain": [
       "<Figure size 432x288 with 1 Axes>"
      ]
     },
     "metadata": {},
     "output_type": "display_data"
    }
   ],
   "source": [
    "sns.set_style('whitegrid')\n",
    "sns.countplot(x = 'Label', data = data)"
   ]
  },
  {
   "cell_type": "code",
   "execution_count": 4,
   "metadata": {
    "executionInfo": {
     "elapsed": 21,
     "status": "ok",
     "timestamp": 1652590603627,
     "user": {
      "displayName": "James Bond",
      "userId": "11920866519642454256"
     },
     "user_tz": -360
    },
    "id": "LdkFO250QGEI"
   },
   "outputs": [],
   "source": [
    "def process_sentences(Sentence): \n",
    "    Sentence = re.sub('[^\\u0980-\\u09FF]',' ',Sentence)\n",
    "    Sentence = re.sub('[?.`*^()!°¢܌Ͱ̰ߒנ~×Ҡߘ:ҰߑÍ|।;!,&%\\'@#$><A-Za-z0+-9=./''\"\"_০-৯]', '', Sentence)\n",
    "    Sentence = re.sub(r'(\\W)(?=\\1)', '', Sentence)\n",
    "    Sentence = re.sub(r'https?:\\/\\/.*[\\r\\n]*', '', Sentence, flags=re.MULTILINE)\n",
    "    Sentence = re.sub(r'\\<a href', ' ', Sentence)\n",
    "    Sentence = re.sub(r'&amp;', '', Sentence) \n",
    "    Sentence = re.sub(r'<br />', ' ', Sentence)\n",
    "    Sentence = re.sub(r'\\'', ' ', Sentence)\n",
    "    Sentence = re.sub(r'ߑͰߑ̰ߒנ', '', Sentence)\n",
    "    Sentence = re.sub(r'ߎɰߎɰߎɍ', '', Sentence)\n",
    "    return Sentence"
   ]
  },
  {
   "cell_type": "code",
   "execution_count": 5,
   "metadata": {
    "colab": {
     "base_uri": "https://localhost:8080/",
     "height": 423
    },
    "executionInfo": {
     "elapsed": 22,
     "status": "ok",
     "timestamp": 1652590603628,
     "user": {
      "displayName": "James Bond",
      "userId": "11920866519642454256"
     },
     "user_tz": -360
    },
    "id": "hUztiSIZQLkx",
    "outputId": "eef2a98c-0f0b-41f3-bdd8-b114c091334c"
   },
   "outputs": [
    {
     "data": {
      "text/html": [
       "<div>\n",
       "<style scoped>\n",
       "    .dataframe tbody tr th:only-of-type {\n",
       "        vertical-align: middle;\n",
       "    }\n",
       "\n",
       "    .dataframe tbody tr th {\n",
       "        vertical-align: top;\n",
       "    }\n",
       "\n",
       "    .dataframe thead th {\n",
       "        text-align: right;\n",
       "    }\n",
       "</style>\n",
       "<table border=\"1\" class=\"dataframe\">\n",
       "  <thead>\n",
       "    <tr style=\"text-align: right;\">\n",
       "      <th></th>\n",
       "      <th>Sentence</th>\n",
       "      <th>Label</th>\n",
       "      <th>target</th>\n",
       "    </tr>\n",
       "  </thead>\n",
       "  <tbody>\n",
       "    <tr>\n",
       "      <th>0</th>\n",
       "      <td>বৌদির দুধ দেকে তো আমার ই চোখ ঠিক ছিলো না পোলাপ...</td>\n",
       "      <td>Personal</td>\n",
       "      <td>0</td>\n",
       "    </tr>\n",
       "    <tr>\n",
       "      <th>1</th>\n",
       "      <td>এই সরকার কে যারা নির্লজ্জের মত সাপোর্ট দিয়েছে ...</td>\n",
       "      <td>Political</td>\n",
       "      <td>1</td>\n",
       "    </tr>\n",
       "    <tr>\n",
       "      <th>2</th>\n",
       "      <td>পিলখানা হত্যাকান্ড বাংলাদেশের প্রতিরক্ষা ব্যবস...</td>\n",
       "      <td>Geopolitical</td>\n",
       "      <td>3</td>\n",
       "    </tr>\n",
       "    <tr>\n",
       "      <th>3</th>\n",
       "      <td>ভারতের অর্থনীতি নিয়ে আপনাদের ভাবতে হবে না ভার...</td>\n",
       "      <td>Geopolitical</td>\n",
       "      <td>3</td>\n",
       "    </tr>\n",
       "    <tr>\n",
       "      <th>4</th>\n",
       "      <td>খানকির পুলা মালায়নদের মেরে সাফা করে ফেল</td>\n",
       "      <td>Personal</td>\n",
       "      <td>0</td>\n",
       "    </tr>\n",
       "    <tr>\n",
       "      <th>...</th>\n",
       "      <td>...</td>\n",
       "      <td>...</td>\n",
       "      <td>...</td>\n",
       "    </tr>\n",
       "    <tr>\n",
       "      <th>5693</th>\n",
       "      <td>জুতা যতই দামি হোক তার স্থান পায়ে তার স্থান কখ...</td>\n",
       "      <td>Personal</td>\n",
       "      <td>0</td>\n",
       "    </tr>\n",
       "    <tr>\n",
       "      <th>5694</th>\n",
       "      <td>আমাদের দেশ ছোট বলে ভারতের চেয়ে পিছিয়ে না হয় ...</td>\n",
       "      <td>Geopolitical</td>\n",
       "      <td>3</td>\n",
       "    </tr>\n",
       "    <tr>\n",
       "      <th>5695</th>\n",
       "      <td>হিন্দুদের মধ্যে এগুলো হয় এটাই তার বাস্তব প্রমা...</td>\n",
       "      <td>Personal</td>\n",
       "      <td>0</td>\n",
       "    </tr>\n",
       "    <tr>\n",
       "      <th>5696</th>\n",
       "      <td>দেখলে মনে হয় শালী একটা অস্ট্রেলিয়ান গাভী</td>\n",
       "      <td>Personal</td>\n",
       "      <td>0</td>\n",
       "    </tr>\n",
       "    <tr>\n",
       "      <th>5697</th>\n",
       "      <td>ভাই আমি আপনার সাথে একমত আর নারী নেতৃত্বে থাকতে...</td>\n",
       "      <td>Political</td>\n",
       "      <td>1</td>\n",
       "    </tr>\n",
       "  </tbody>\n",
       "</table>\n",
       "<p>5698 rows × 3 columns</p>\n",
       "</div>"
      ],
      "text/plain": [
       "                                               Sentence         Label  target\n",
       "0     বৌদির দুধ দেকে তো আমার ই চোখ ঠিক ছিলো না পোলাপ...      Personal       0\n",
       "1     এই সরকার কে যারা নির্লজ্জের মত সাপোর্ট দিয়েছে ...     Political       1\n",
       "2     পিলখানা হত্যাকান্ড বাংলাদেশের প্রতিরক্ষা ব্যবস...  Geopolitical       3\n",
       "3     ভারতের অর্থনীতি নিয়ে আপনাদের ভাবতে হবে না ভার...  Geopolitical       3\n",
       "4               খানকির পুলা মালায়নদের মেরে সাফা করে ফেল      Personal       0\n",
       "...                                                 ...           ...     ...\n",
       "5693  জুতা যতই দামি হোক তার স্থান পায়ে তার স্থান কখ...      Personal       0\n",
       "5694  আমাদের দেশ ছোট বলে ভারতের চেয়ে পিছিয়ে না হয় ...  Geopolitical       3\n",
       "5695  হিন্দুদের মধ্যে এগুলো হয় এটাই তার বাস্তব প্রমা...      Personal       0\n",
       "5696          দেখলে মনে হয় শালী একটা অস্ট্রেলিয়ান গাভী      Personal       0\n",
       "5697  ভাই আমি আপনার সাথে একমত আর নারী নেতৃত্বে থাকতে...     Political       1\n",
       "\n",
       "[5698 rows x 3 columns]"
      ]
     },
     "execution_count": 5,
     "metadata": {},
     "output_type": "execute_result"
    }
   ],
   "source": [
    "data['Sentence'] = data['Sentence'].apply(process_sentences)  \n",
    "data"
   ]
  },
  {
   "cell_type": "code",
   "execution_count": 9,
   "metadata": {
    "colab": {
     "base_uri": "https://localhost:8080/"
    },
    "executionInfo": {
     "elapsed": 9,
     "status": "ok",
     "timestamp": 1652590604560,
     "user": {
      "displayName": "James Bond",
      "userId": "11920866519642454256"
     },
     "user_tz": -360
    },
    "id": "4jWxzK2PndvH",
    "outputId": "0aa9574d-82cf-44fc-842a-150aac40ab20"
   },
   "outputs": [
    {
     "name": "stdout",
     "output_type": "stream",
     "text": [
      "After Cleaning: \n",
      "Removed 0 Small Text \n",
      "Total Text: 5698\n"
     ]
    }
   ],
   "source": [
    "# Length of each Text\n",
    "data['length'] = data['Sentence'].apply(lambda x:len(x.split()))\n",
    "# Remove the Text with least words\n",
    "dataset = data.loc[data.length>0]\n",
    "dataset = dataset.reset_index(drop = True)\n",
    "print(\"After Cleaning:\",\"\\nRemoved {} Small Text\".format(len(data)-len(dataset)),\n",
    "      \"\\nTotal Text:\",len(dataset))"
   ]
  },
  {
   "cell_type": "code",
   "execution_count": 10,
   "metadata": {
    "colab": {
     "base_uri": "https://localhost:8080/",
     "height": 357
    },
    "executionInfo": {
     "elapsed": 3087,
     "status": "ok",
     "timestamp": 1652590607642,
     "user": {
      "displayName": "James Bond",
      "userId": "11920866519642454256"
     },
     "user_tz": -360
    },
    "id": "BpR01cSlnsw2",
    "outputId": "61d5c47a-d714-475e-9996-ebc71bdf4d71"
   },
   "outputs": [
    {
     "data": {
      "image/png": "[encoded data removed]",
      "text/plain": [
       "<Figure size 720x432 with 1 Axes>"
      ]
     },
     "metadata": {},
     "output_type": "display_data"
    }
   ],
   "source": [
    "from wordcloud import WordCloud \n",
    "# Plot the Word Cloud\n",
    "allWords = ' '.join([comnt for comnt in data['Sentence']])\n",
    "wordCloud = WordCloud(font_path='../ShonarBangla/Shonarb.ttf', width =500, height =400, random_state = 21, max_font_size = 119).generate(allWords)\n",
    "\n",
    "fig = plt.figure(1, figsize=(10, 6))\n",
    "plt.imshow(wordCloud, interpolation = \"bilinear\")\n",
    "plt.axis('off')\n",
    "plt.show()"
   ]
  },
  {
   "cell_type": "code",
   "execution_count": 11,
   "metadata": {
    "colab": {
     "base_uri": "https://localhost:8080/"
    },
    "executionInfo": {
     "elapsed": 1255,
     "status": "ok",
     "timestamp": 1652590608880,
     "user": {
      "displayName": "James Bond",
      "userId": "11920866519642454256"
     },
     "user_tz": -360
    },
    "id": "-VRFRFvwsQE-",
    "outputId": "418775a5-47de-4c2c-e814-f8fde78a5995"
   },
   "outputs": [
    {
     "name": "stdout",
     "output_type": "stream",
     "text": [
      "\n",
      "Class Name :  Personal\n",
      "Number of Documents:2189\n",
      "Number of Words:27804\n",
      "Number of Unique Words:7658\n",
      "Most Frequent Words:\n",
      "\n",
      "না\t482\n",
      "করে\t296\n",
      "এই\t293\n",
      "আর\t272\n",
      "কি\t269\n",
      "কে\t182\n",
      "হয়\t181\n",
      "তো\t174\n",
      "আমি\t150\n",
      "তোর\t149\n",
      "\n",
      "Class Name :  Geopolitical\n",
      "Number of Documents:1738\n",
      "Number of Words:34582\n",
      "Number of Unique Words:9118\n",
      "Most Frequent Words:\n",
      "\n",
      "ভারত\t532\n",
      "না\t509\n",
      "ভারতের\t463\n",
      "করে\t382\n",
      "আর\t363\n",
      "কি\t230\n",
      "এই\t198\n",
      "আমাদের\t190\n",
      "ভারতে\t188\n",
      "বাংলাদেশ\t174\n",
      "\n",
      "Class Name :  Religious\n",
      "Number of Documents:957\n",
      "Number of Words:15209\n",
      "Number of Unique Words:4984\n",
      "Most Frequent Words:\n",
      "\n",
      "না\t235\n",
      "করে\t192\n",
      "মালাউন\t158\n",
      "আর\t156\n",
      "ধর্ম\t117\n",
      "এই\t110\n",
      "কি\t109\n",
      "হিন্দু\t97\n",
      "মুসলিম\t86\n",
      "মালাউনের\t83\n",
      "\n",
      "Class Name :  Political\n",
      "Number of Documents:814\n",
      "Number of Words:13095\n",
      "Number of Unique Words:4289\n",
      "Most Frequent Words:\n",
      "\n",
      "না\t206\n",
      "করে\t148\n",
      "রাজাকার\t139\n",
      "আর\t137\n",
      "এই\t96\n",
      "লীগ\t93\n",
      "ও\t93\n",
      "হবে\t82\n",
      "কি\t82\n",
      "কে\t79\n",
      "Total Number of Unique Words:17567\n"
     ]
    }
   ],
   "source": [
    "def data_summary(dataset):\n",
    "    \n",
    "    documents = []\n",
    "    words = []\n",
    "    u_words = []\n",
    "    total_u_words = [word.strip().lower() for t in list(dataset.Sentence) for word in t.strip().split()]\n",
    "    class_label= [k for k,v in dataset.Label.value_counts().to_dict().items()]\n",
    "    for label in class_label: \n",
    "        word_list = [word.strip().lower() for t in list(dataset[dataset.Label==label].Sentence) for word in t.strip().split()]\n",
    "        counts = dict()\n",
    "        for word in word_list:\n",
    "                counts[word] = counts.get(word, 0)+1\n",
    "        ordered = sorted(counts.items(), key= lambda item: item[1],reverse = True)\n",
    "        documents.append(len(list(dataset[dataset.Label==label].Sentence)))\n",
    "        words.append(len(word_list))\n",
    "        u_words.append(len(np.unique(word_list)))\n",
    "       \n",
    "        print(\"\\nClass Name : \",label)\n",
    "        print(\"Number of Documents:{}\".format(len(list(dataset[dataset.Label==label].Sentence))))  \n",
    "        print(\"Number of Words:{}\".format(len(word_list))) \n",
    "        print(\"Number of Unique Words:{}\".format(len(np.unique(word_list)))) \n",
    "        print(\"Most Frequent Words:\\n\")\n",
    "        for k,v in ordered[:10]:\n",
    "              print(\"{}\\t{}\".format(k,v))\n",
    "    print(\"Total Number of Unique Words:{}\".format(len(np.unique(total_u_words))))           \n",
    "   \n",
    "    return documents,words,u_words,class_label\n",
    "\n",
    "documents,words,u_words,class_names = data_summary(dataset)   "
   ]
  },
  {
   "cell_type": "code",
   "execution_count": 12,
   "metadata": {
    "colab": {
     "base_uri": "https://localhost:8080/",
     "height": 443
    },
    "executionInfo": {
     "elapsed": 17,
     "status": "ok",
     "timestamp": 1652590608881,
     "user": {
      "displayName": "James Bond",
      "userId": "11920866519642454256"
     },
     "user_tz": -360
    },
    "id": "Y_Fi5bQ3sgM2",
    "outputId": "55c9ffd4-70aa-4d6b-d7ea-4a5ce8bb0fbe"
   },
   "outputs": [
    {
     "data": {
      "image/png": "[encoded data removed]",
      "text/plain": [
       "<Figure size 576x432 with 1 Axes>"
      ]
     },
     "metadata": {},
     "output_type": "display_data"
    }
   ],
   "source": [
    "data_matrix = pd.DataFrame({'Total Documents':documents,\n",
    "                            'Total Words':words,\n",
    "                            'Unique Words':u_words,\n",
    "                            'Class Names':class_names})\n",
    "df = pd.melt(data_matrix, id_vars=\"Class Names\", var_name=\"Category\", value_name=\"Values\")\n",
    "plt.figure(figsize=(8, 6))\n",
    "ax = plt.subplot()\n",
    "\n",
    "sns.barplot(data=df,x='Class Names', y='Values' ,hue='Category')\n",
    "ax.set_xlabel('Class Names') \n",
    "ax.set_title('Data Statistics')\n",
    "\n",
    "ax.xaxis.set_ticklabels(class_names, rotation=45);"
   ]
  },
  {
   "cell_type": "code",
   "execution_count": 13,
   "metadata": {
    "colab": {
     "base_uri": "https://localhost:8080/",
     "height": 350
    },
    "executionInfo": {
     "elapsed": 16,
     "status": "ok",
     "timestamp": 1652590608882,
     "user": {
      "displayName": "James Bond",
      "userId": "11920866519642454256"
     },
     "user_tz": -360
    },
    "id": "yKS9Q1pasqR0",
    "outputId": "4eca2876-63e7-4dea-b629-8c5c7fa0f16f"
   },
   "outputs": [
    {
     "data": {
      "image/png": "[encoded data removed]",
      "text/plain": [
       "<Figure size 432x288 with 1 Axes>"
      ]
     },
     "metadata": {},
     "output_type": "display_data"
    },
    {
     "name": "stdout",
     "output_type": "stream",
     "text": [
      "Maximum Length of a Text: 101\n",
      "Minimum Length of a Text: 4\n",
      "Average Length of a Text: 16.0\n"
     ]
    }
   ],
   "source": [
    "# Calculate the Text of each of the Text\n",
    "dataset['TextLength'] = dataset.Sentence.apply(lambda x:len(x.split()))\n",
    "frequency = dict()\n",
    "for i in dataset.TextLength:\n",
    "    frequency[i] = frequency.get(i, 0)+1\n",
    "\n",
    "plt.bar(frequency.keys(), frequency.values(), color =\"b\")\n",
    "plt.xlim(1, 135)\n",
    "plt.xlabel('Lenght of the Texts')\n",
    "plt.ylabel('Frequency')\n",
    "plt.title('Length-Frequency Distribution')\n",
    "plt.show()  \n",
    "print(f\"Maximum Length of a Text: {max(dataset.TextLength)}\")\n",
    "print(f\"Minimum Length of a Text: {min(dataset.TextLength)}\")\n",
    "print(f\"Average Length of a Text: {round(np.mean(dataset.TextLength),0)}\")"
   ]
  },
  {
   "cell_type": "code",
   "execution_count": 14,
   "metadata": {
    "executionInfo": {
     "elapsed": 16,
     "status": "ok",
     "timestamp": 1652590608883,
     "user": {
      "displayName": "James Bond",
      "userId": "11920866519642454256"
     },
     "user_tz": -360
    },
    "id": "cw2ikQaSs1fd"
   },
   "outputs": [],
   "source": [
    "# Label Encoding Function \n",
    "from sklearn.preprocessing import LabelEncoder\n",
    "from sklearn.feature_extraction.text import TfidfVectorizer\n",
    "from sklearn.model_selection import train_test_split\n",
    "\n",
    "def label_encoding(sentiment,bool):\n",
    "\n",
    "    le = LabelEncoder()\n",
    "    le.fit(sentiment)\n",
    "    encoded_labels = le.transform(sentiment)\n",
    "    labels = np.array(encoded_labels) \n",
    "    class_names =le.classes_ \n",
    "    if bool == True:\n",
    "        print(\"\\n\\t\\t\\t===== Label Encoding =====\",\"\\nClass Names:-->\",le.classes_)\n",
    "        for i in sample_data:\n",
    "            print(sentiment[i],' ', encoded_labels[i],'\\n')\n",
    "\n",
    "    return labels"
   ]
  },
  {
   "cell_type": "code",
   "execution_count": 15,
   "metadata": {
    "executionInfo": {
     "elapsed": 15,
     "status": "ok",
     "timestamp": 1652590608883,
     "user": {
      "displayName": "James Bond",
      "userId": "11920866519642454256"
     },
     "user_tz": -360
    },
    "id": "2ECRWFodtHOU"
   },
   "outputs": [],
   "source": [
    "# Dataset Splitting Function \n",
    "\n",
    "def dataset_split(feature_space,sentiment):\n",
    "\n",
    "    X_train,X_test,y_train,y_test = train_test_split(feature_space,sentiment,train_size = 0.8,\n",
    "                                                  test_size = 0.20,random_state =22,stratify=sentiment)\n",
    "    print(\"Feature Size :======>\",X_train.shape[1])\n",
    "    print(\"\\nDataset Distribution:\\n\")\n",
    "    print(\"\\tSet Name\",\"\\t\\tSize\")\n",
    "    print(\"\\t========\\t\\t======\")\n",
    "\n",
    "    print(\"\\tFull\\t\\t\\t\",feature_space.shape[0],\n",
    "        \"\\n\\tTraining\\t\\t\",X_train.shape[0],\n",
    "        \"\\n\\tTest\\t\\t\\t\",X_test.shape[0])\n",
    "  \n",
    "    return X_train,X_test,y_train,y_test\n"
   ]
  },
  {
   "cell_type": "code",
   "execution_count": 16,
   "metadata": {
    "executionInfo": {
     "elapsed": 15,
     "status": "ok",
     "timestamp": 1652590608883,
     "user": {
      "displayName": "James Bond",
      "userId": "11920866519642454256"
     },
     "user_tz": -360
    },
    "id": "0lfpowXAtKSE"
   },
   "outputs": [],
   "source": [
    "def calc_gram_tfidf(reviews,gram):\n",
    "\n",
    "    tfidf = TfidfVectorizer(ngram_range=gram,use_idf=True,tokenizer=lambda x: x.split()) \n",
    "    X = tfidf.fit_transform(reviews)\n",
    "    \n",
    "    return tfidf,X"
   ]
  },
  {
   "cell_type": "code",
   "execution_count": 18,
   "metadata": {
    "executionInfo": {
     "elapsed": 15,
     "status": "ok",
     "timestamp": 1652590608884,
     "user": {
      "displayName": "James Bond",
      "userId": "11920866519642454256"
     },
     "user_tz": -360
    },
    "id": "V6LZ_m1ntNy8"
   },
   "outputs": [],
   "source": [
    "# Unigram Tf-idf value calculation\n",
    "          \n",
    "\n",
    "def calc_unigram_tfidf(reviews):\n",
    "    tfidf = TfidfVectorizer(use_idf=True,tokenizer=lambda x: x.split()) \n",
    "    X = tfidf.fit_transform(reviews)\n",
    "    \n",
    "    return tfidf,X\n",
    "\n"
   ]
  },
  {
   "cell_type": "code",
   "execution_count": 19,
   "metadata": {
    "executionInfo": {
     "elapsed": 15,
     "status": "ok",
     "timestamp": 1652590608884,
     "user": {
      "displayName": "James Bond",
      "userId": "11920866519642454256"
     },
     "user_tz": -360
    },
    "id": "Ip86XN58tSDN"
   },
   "outputs": [],
   "source": [
    "# Bi-gram Tf-idf value calculation\n",
    "                                            \n",
    "\n",
    "def calc_bigram_tfidf(reviews):\n",
    "    tfidf = TfidfVectorizer(ngram_range=(1,2),use_idf=True,tokenizer=lambda x: x.split()) \n",
    "    X = tfidf.fit_transform(reviews)\n",
    "    \n",
    "    return tfidf,X\n",
    "\n"
   ]
  },
  {
   "cell_type": "code",
   "execution_count": 20,
   "metadata": {
    "executionInfo": {
     "elapsed": 16,
     "status": "ok",
     "timestamp": 1652590608885,
     "user": {
      "displayName": "James Bond",
      "userId": "11920866519642454256"
     },
     "user_tz": -360
    },
    "id": "pwnre9-OtU8M"
   },
   "outputs": [],
   "source": [
    "# Tri-gram Tf-idf value calculation\n",
    "                                            \n",
    "\n",
    "def calc_trigram_tfidf(reviews):\n",
    "    tfidf = TfidfVectorizer(ngram_range=(1,3),use_idf=True,tokenizer=lambda x: x.split()) \n",
    "    X = tfidf.fit_transform(reviews)\n",
    "    \n",
    "    return tfidf,X\n",
    "\n"
   ]
  },
  {
   "cell_type": "code",
   "execution_count": 21,
   "metadata": {
    "executionInfo": {
     "elapsed": 700,
     "status": "ok",
     "timestamp": 1652590609570,
     "user": {
      "displayName": "James Bond",
      "userId": "11920866519642454256"
     },
     "user_tz": -360
    },
    "id": "BY45up2jtXVs"
   },
   "outputs": [],
   "source": [
    "from sklearn.linear_model import LogisticRegression\n",
    "from sklearn.tree import DecisionTreeClassifier\n",
    "from sklearn.ensemble import RandomForestClassifier\n",
    "from sklearn.naive_bayes import MultinomialNB\n",
    "from sklearn.neighbors import KNeighborsClassifier\n",
    "from sklearn.svm import SVC\n",
    "from sklearn.linear_model import SGDClassifier\n",
    "from sklearn.metrics import classification_report,accuracy_score,precision_score,recall_score,f1_score\n",
    "from sklearn.metrics import roc_curve, roc_auc_score\n",
    "from sklearn.metrics import average_precision_score,roc_auc_score, roc_curve, precision_recall_curve"
   ]
  },
  {
   "cell_type": "code",
   "execution_count": 22,
   "metadata": {
    "executionInfo": {
     "elapsed": 6,
     "status": "ok",
     "timestamp": 1652590609570,
     "user": {
      "displayName": "James Bond",
      "userId": "11920866519642454256"
     },
     "user_tz": -360
    },
    "id": "0onScWWBtbmd"
   },
   "outputs": [],
   "source": [
    "def model_defination():\n",
    "    lr_model = LogisticRegression(random_state = 123, max_iter = 10000)\n",
    "    dt_model = DecisionTreeClassifier(criterion = 'gini', random_state = 0, max_depth = 1, min_samples_split = 25)\n",
    "    rf_model = RandomForestClassifier(criterion ='entropy', random_state = 13)\n",
    "    mnb_model = MultinomialNB(alpha=0.431)\n",
    "    knn_model = KNeighborsClassifier(n_neighbors=100, metric = 'minkowski', algorithm = 'ball_tree', n_jobs = 10)\n",
    "    lsvm_model = SVC(kernel = 'linear',C = 0.2, probability=True, random_state = 0)\n",
    "    ksvm_model = SVC(C= 1000,kernel = 'rbf',probability=True, gamma = 0.00015, random_state = 0)\n",
    "    sgd_model = SGDClassifier(loss ='log',penalty='l2', max_iter=5)\n",
    "    model_names = ['Logistic Regression','Decision Tree','Random Forest','Naive Bayes','KNN','Linear SVM','Kernel SVM','SGD']\n",
    "    # Create list of models\n",
    "    ml_models = [lr_model,dt_model,rf_model,mnb_model,knn_model,lsvm_model,ksvm_model,sgd_model]\n",
    "    return ml_models,model_names"
   ]
  },
  {
   "cell_type": "code",
   "execution_count": 23,
   "metadata": {
    "executionInfo": {
     "elapsed": 7,
     "status": "ok",
     "timestamp": 1652590609571,
     "user": {
      "displayName": "James Bond",
      "userId": "11920866519642454256"
     },
     "user_tz": -360
    },
    "id": "ZyJbLZ8_te5d"
   },
   "outputs": [],
   "source": [
    "def model_performace(model,X_train,X_test,y_train,y_test):\n",
    "    my_dict = {}\n",
    "    model.fit(X_train,y_train)\n",
    "    pred_y = model.predict(X_test)\n",
    "    my_dict['Accuracy'] = round(accuracy_score(y_test, pred_y),4)*100 \n",
    "    my_dict['Precision'] = round(precision_score(y_test, pred_y,average='micro'),4)*100 \n",
    "    my_dict['Recall'] = round(recall_score(y_test, pred_y,average='micro'),4)*100 \n",
    "    my_dict['F1 Score'] = round(f1_score(y_test, pred_y,average='micro'),4)*100 \n",
    "    \n",
    "    return my_dict  "
   ]
  },
  {
   "cell_type": "code",
   "execution_count": 24,
   "metadata": {
    "executionInfo": {
     "elapsed": 7,
     "status": "ok",
     "timestamp": 1652590609571,
     "user": {
      "displayName": "James Bond",
      "userId": "11920866519642454256"
     },
     "user_tz": -360
    },
    "id": "oXhqonkVthx1"
   },
   "outputs": [],
   "source": [
    "def performance_table(performance_dict):\n",
    "\n",
    "    acc_list = []\n",
    "    pr_list = []\n",
    "    re_list = []\n",
    "    f1_list = []\n",
    "    for i in performance_dict.keys():\n",
    "        acc_list.append(performance_dict[i]['Accuracy'])\n",
    "        pr_list.append(performance_dict[i]['Precision'])\n",
    "        re_list.append(performance_dict[i]['Recall'])\n",
    "        f1_list.append(performance_dict[i]['F1 Score'])\n",
    "\n",
    "    performance_df = pd.DataFrame({'Accuracy':acc_list,'Precision':pr_list,\n",
    "                                   'Recall':re_list,'F1 Score':f1_list},\n",
    "                                  index =['LR','DT','RF','MNB','KNN','Linear SVM','RBF SVM','SGD'])\n",
    "    performance_df.style.highlight_max(color = 'lightgreen', axis = 0)\n",
    "    return performance_df"
   ]
  },
  {
   "cell_type": "code",
   "execution_count": 25,
   "metadata": {
    "executionInfo": {
     "elapsed": 7,
     "status": "ok",
     "timestamp": 1652590609571,
     "user": {
      "displayName": "James Bond",
      "userId": "11920866519642454256"
     },
     "user_tz": -360
    },
    "id": "Hya9l48ztkSW"
   },
   "outputs": [],
   "source": [
    "path = \"../json/Bengali Hate Speech V2/\""
   ]
  },
  {
   "cell_type": "code",
   "execution_count": 26,
   "metadata": {
    "colab": {
     "base_uri": "https://localhost:8080/"
    },
    "executionInfo": {
     "elapsed": 322519,
     "status": "ok",
     "timestamp": 1652590932084,
     "user": {
      "displayName": "James Bond",
      "userId": "11920866519642454256"
     },
     "user_tz": -360
    },
    "id": "yqIITVSptqen",
    "outputId": "20bd291c-2be0-4391-8907-1fd7e6c7aaf2"
   },
   "outputs": [
    {
     "name": "stdout",
     "output_type": "stream",
     "text": [
      "Feature Size :======> 17567\n",
      "\n",
      "Dataset Distribution:\n",
      "\n",
      "\tSet Name \t\tSize\n",
      "\t========\t\t======\n",
      "\tFull\t\t\t 5698 \n",
      "\tTraining\t\t 4558 \n",
      "\tTest\t\t\t 1140\n"
     ]
    },
    {
     "name": "stderr",
     "output_type": "stream",
     "text": [
      "C:\\Users\\afrim\\.conda\\envs\\tensorflow1\\lib\\site-packages\\sklearn\\neighbors\\_base.py:462: UserWarning: cannot use tree with sparse input: using brute force\n",
      "  warnings.warn(\"cannot use tree with sparse input: \"\n",
      "C:\\Users\\afrim\\.conda\\envs\\tensorflow1\\lib\\site-packages\\sklearn\\linear_model\\_stochastic_gradient.py:577: ConvergenceWarning: Maximum number of iteration reached before convergence. Consider increasing max_iter to improve the fit.\n",
      "  ConvergenceWarning)\n"
     ]
    },
    {
     "name": "stdout",
     "output_type": "stream",
     "text": [
      "Feature Size :======> 86798\n",
      "\n",
      "Dataset Distribution:\n",
      "\n",
      "\tSet Name \t\tSize\n",
      "\t========\t\t======\n",
      "\tFull\t\t\t 5698 \n",
      "\tTraining\t\t 4558 \n",
      "\tTest\t\t\t 1140\n"
     ]
    },
    {
     "name": "stderr",
     "output_type": "stream",
     "text": [
      "C:\\Users\\afrim\\.conda\\envs\\tensorflow1\\lib\\site-packages\\sklearn\\neighbors\\_base.py:462: UserWarning: cannot use tree with sparse input: using brute force\n",
      "  warnings.warn(\"cannot use tree with sparse input: \"\n",
      "C:\\Users\\afrim\\.conda\\envs\\tensorflow1\\lib\\site-packages\\sklearn\\linear_model\\_stochastic_gradient.py:577: ConvergenceWarning: Maximum number of iteration reached before convergence. Consider increasing max_iter to improve the fit.\n",
      "  ConvergenceWarning)\n"
     ]
    },
    {
     "name": "stdout",
     "output_type": "stream",
     "text": [
      "Feature Size :======> 163930\n",
      "\n",
      "Dataset Distribution:\n",
      "\n",
      "\tSet Name \t\tSize\n",
      "\t========\t\t======\n",
      "\tFull\t\t\t 5698 \n",
      "\tTraining\t\t 4558 \n",
      "\tTest\t\t\t 1140\n"
     ]
    },
    {
     "name": "stderr",
     "output_type": "stream",
     "text": [
      "C:\\Users\\afrim\\.conda\\envs\\tensorflow1\\lib\\site-packages\\sklearn\\neighbors\\_base.py:462: UserWarning: cannot use tree with sparse input: using brute force\n",
      "  warnings.warn(\"cannot use tree with sparse input: \"\n",
      "C:\\Users\\afrim\\.conda\\envs\\tensorflow1\\lib\\site-packages\\sklearn\\linear_model\\_stochastic_gradient.py:577: ConvergenceWarning: Maximum number of iteration reached before convergence. Consider increasing max_iter to improve the fit.\n",
      "  ConvergenceWarning)\n"
     ]
    }
   ],
   "source": [
    "import json\n",
    "gram_names = ['Unigram','Bigram','Trigram']\n",
    "ngrams = [(1,1),(1,2),(1,3)]\n",
    "for i,gram in enumerate(ngrams):\n",
    "    tfidf,feature = calc_gram_tfidf(dataset.Sentence,gram)\n",
    "    labels = label_encoding(dataset.Label,False)\n",
    "    X_train,X_test,y_train,y_test = dataset_split(feature,labels) \n",
    "    ml_models,model_names = model_defination()\n",
    "    accuracy = {f'{model_names[j]}':model_performace(model,X_train,X_test,y_train,y_test) for j,model in enumerate(ml_models)}\n",
    "    with open(path+f'ml_performance_{gram_names[i]}.json', 'w') as f:\n",
    "          json.dump(accuracy, f)"
   ]
  },
  {
   "cell_type": "code",
   "execution_count": 27,
   "metadata": {
    "colab": {
     "base_uri": "https://localhost:8080/",
     "height": 300
    },
    "executionInfo": {
     "elapsed": 32,
     "status": "ok",
     "timestamp": 1652590932085,
     "user": {
      "displayName": "James Bond",
      "userId": "11920866519642454256"
     },
     "user_tz": -360
    },
    "id": "xbz7ZDhUuAQl",
    "outputId": "82b4d827-8a18-49f5-9f3e-b222868de009"
   },
   "outputs": [
    {
     "data": {
      "text/html": [
       "<div>\n",
       "<style scoped>\n",
       "    .dataframe tbody tr th:only-of-type {\n",
       "        vertical-align: middle;\n",
       "    }\n",
       "\n",
       "    .dataframe tbody tr th {\n",
       "        vertical-align: top;\n",
       "    }\n",
       "\n",
       "    .dataframe thead th {\n",
       "        text-align: right;\n",
       "    }\n",
       "</style>\n",
       "<table border=\"1\" class=\"dataframe\">\n",
       "  <thead>\n",
       "    <tr style=\"text-align: right;\">\n",
       "      <th></th>\n",
       "      <th>Accuracy</th>\n",
       "      <th>Precision</th>\n",
       "      <th>Recall</th>\n",
       "      <th>F1 Score</th>\n",
       "    </tr>\n",
       "  </thead>\n",
       "  <tbody>\n",
       "    <tr>\n",
       "      <th>LR</th>\n",
       "      <td>74.91</td>\n",
       "      <td>74.91</td>\n",
       "      <td>74.91</td>\n",
       "      <td>74.91</td>\n",
       "    </tr>\n",
       "    <tr>\n",
       "      <th>DT</th>\n",
       "      <td>46.75</td>\n",
       "      <td>46.75</td>\n",
       "      <td>46.75</td>\n",
       "      <td>46.75</td>\n",
       "    </tr>\n",
       "    <tr>\n",
       "      <th>RF</th>\n",
       "      <td>75.70</td>\n",
       "      <td>75.70</td>\n",
       "      <td>75.70</td>\n",
       "      <td>75.70</td>\n",
       "    </tr>\n",
       "    <tr>\n",
       "      <th>MNB</th>\n",
       "      <td>69.39</td>\n",
       "      <td>69.39</td>\n",
       "      <td>69.39</td>\n",
       "      <td>69.39</td>\n",
       "    </tr>\n",
       "    <tr>\n",
       "      <th>KNN</th>\n",
       "      <td>68.51</td>\n",
       "      <td>68.51</td>\n",
       "      <td>68.51</td>\n",
       "      <td>68.51</td>\n",
       "    </tr>\n",
       "    <tr>\n",
       "      <th>Linear SVM</th>\n",
       "      <td>62.81</td>\n",
       "      <td>62.81</td>\n",
       "      <td>62.81</td>\n",
       "      <td>62.81</td>\n",
       "    </tr>\n",
       "    <tr>\n",
       "      <th>RBF SVM</th>\n",
       "      <td>68.77</td>\n",
       "      <td>68.77</td>\n",
       "      <td>68.77</td>\n",
       "      <td>68.77</td>\n",
       "    </tr>\n",
       "    <tr>\n",
       "      <th>SGD</th>\n",
       "      <td>76.67</td>\n",
       "      <td>76.67</td>\n",
       "      <td>76.67</td>\n",
       "      <td>76.67</td>\n",
       "    </tr>\n",
       "  </tbody>\n",
       "</table>\n",
       "</div>"
      ],
      "text/plain": [
       "            Accuracy  Precision  Recall  F1 Score\n",
       "LR             74.91      74.91   74.91     74.91\n",
       "DT             46.75      46.75   46.75     46.75\n",
       "RF             75.70      75.70   75.70     75.70\n",
       "MNB            69.39      69.39   69.39     69.39\n",
       "KNN            68.51      68.51   68.51     68.51\n",
       "Linear SVM     62.81      62.81   62.81     62.81\n",
       "RBF SVM        68.77      68.77   68.77     68.77\n",
       "SGD            76.67      76.67   76.67     76.67"
      ]
     },
     "execution_count": 27,
     "metadata": {},
     "output_type": "execute_result"
    }
   ],
   "source": [
    "accuracy1 = json.load(open('../json/Bengali Hate Speech V2/ml_performance_Unigram.json'))\n",
    "table = performance_table(accuracy1)\n",
    "table"
   ]
  },
  {
   "cell_type": "code",
   "execution_count": 28,
   "metadata": {
    "colab": {
     "base_uri": "https://localhost:8080/"
    },
    "executionInfo": {
     "elapsed": 30,
     "status": "ok",
     "timestamp": 1652590932086,
     "user": {
      "displayName": "James Bond",
      "userId": "11920866519642454256"
     },
     "user_tz": -360
    },
    "id": "P12HpMRjhjuM",
    "outputId": "3bcdbf98-e876-4c5f-f2e6-03cb27b6d635"
   },
   "outputs": [
    {
     "name": "stdout",
     "output_type": "stream",
     "text": [
      "Highest Accuracy achieved by SGD at = 76.67\n",
      "Highest F1-Score achieved by SGD at = 76.67\n",
      "Highest Precision Score achieved by SGD at = 76.67\n",
      "Highest Recall Score achieved by SGD at = 76.67\n"
     ]
    }
   ],
   "source": [
    "print(f\"Highest Accuracy achieved by {table.Accuracy.idxmax(axis = 0)} at = {max(table.Accuracy)}\")\n",
    "print(f\"Highest F1-Score achieved by {table['F1 Score'].idxmax(axis = 0)} at = {max(table['F1 Score'] )}\")\n",
    "print(f\"Highest Precision Score achieved by {table['Precision'].idxmax(axis = 0)} at = {max(table['Precision'] )}\")\n",
    "print(f\"Highest Recall Score achieved by {table['Recall'].idxmax(axis = 0)} at = {max(table['Recall'] )}\")"
   ]
  },
  {
   "cell_type": "code",
   "execution_count": 29,
   "metadata": {
    "colab": {
     "base_uri": "https://localhost:8080/",
     "height": 300
    },
    "executionInfo": {
     "elapsed": 27,
     "status": "ok",
     "timestamp": 1652590932086,
     "user": {
      "displayName": "James Bond",
      "userId": "11920866519642454256"
     },
     "user_tz": -360
    },
    "id": "WzB-8s1eg_W5",
    "outputId": "67b5f9cf-90bf-4cd5-c478-dcaa11bef7ac"
   },
   "outputs": [
    {
     "data": {
      "text/html": [
       "<div>\n",
       "<style scoped>\n",
       "    .dataframe tbody tr th:only-of-type {\n",
       "        vertical-align: middle;\n",
       "    }\n",
       "\n",
       "    .dataframe tbody tr th {\n",
       "        vertical-align: top;\n",
       "    }\n",
       "\n",
       "    .dataframe thead th {\n",
       "        text-align: right;\n",
       "    }\n",
       "</style>\n",
       "<table border=\"1\" class=\"dataframe\">\n",
       "  <thead>\n",
       "    <tr style=\"text-align: right;\">\n",
       "      <th></th>\n",
       "      <th>Accuracy</th>\n",
       "      <th>Precision</th>\n",
       "      <th>Recall</th>\n",
       "      <th>F1 Score</th>\n",
       "    </tr>\n",
       "  </thead>\n",
       "  <tbody>\n",
       "    <tr>\n",
       "      <th>LR</th>\n",
       "      <td>68.95</td>\n",
       "      <td>68.95</td>\n",
       "      <td>68.95</td>\n",
       "      <td>68.95</td>\n",
       "    </tr>\n",
       "    <tr>\n",
       "      <th>DT</th>\n",
       "      <td>46.75</td>\n",
       "      <td>46.75</td>\n",
       "      <td>46.75</td>\n",
       "      <td>46.75</td>\n",
       "    </tr>\n",
       "    <tr>\n",
       "      <th>RF</th>\n",
       "      <td>74.30</td>\n",
       "      <td>74.30</td>\n",
       "      <td>74.30</td>\n",
       "      <td>74.30</td>\n",
       "    </tr>\n",
       "    <tr>\n",
       "      <th>MNB</th>\n",
       "      <td>65.96</td>\n",
       "      <td>65.96</td>\n",
       "      <td>65.96</td>\n",
       "      <td>65.96</td>\n",
       "    </tr>\n",
       "    <tr>\n",
       "      <th>KNN</th>\n",
       "      <td>68.16</td>\n",
       "      <td>68.16</td>\n",
       "      <td>68.16</td>\n",
       "      <td>68.16</td>\n",
       "    </tr>\n",
       "    <tr>\n",
       "      <th>Linear SVM</th>\n",
       "      <td>50.96</td>\n",
       "      <td>50.96</td>\n",
       "      <td>50.96</td>\n",
       "      <td>50.96</td>\n",
       "    </tr>\n",
       "    <tr>\n",
       "      <th>RBF SVM</th>\n",
       "      <td>57.72</td>\n",
       "      <td>57.72</td>\n",
       "      <td>57.72</td>\n",
       "      <td>57.72</td>\n",
       "    </tr>\n",
       "    <tr>\n",
       "      <th>SGD</th>\n",
       "      <td>71.40</td>\n",
       "      <td>71.40</td>\n",
       "      <td>71.40</td>\n",
       "      <td>71.40</td>\n",
       "    </tr>\n",
       "  </tbody>\n",
       "</table>\n",
       "</div>"
      ],
      "text/plain": [
       "            Accuracy  Precision  Recall  F1 Score\n",
       "LR             68.95      68.95   68.95     68.95\n",
       "DT             46.75      46.75   46.75     46.75\n",
       "RF             74.30      74.30   74.30     74.30\n",
       "MNB            65.96      65.96   65.96     65.96\n",
       "KNN            68.16      68.16   68.16     68.16\n",
       "Linear SVM     50.96      50.96   50.96     50.96\n",
       "RBF SVM        57.72      57.72   57.72     57.72\n",
       "SGD            71.40      71.40   71.40     71.40"
      ]
     },
     "execution_count": 29,
     "metadata": {},
     "output_type": "execute_result"
    }
   ],
   "source": [
    "accuracy2 = json.load(open('../json/Bengali Hate Speech V2/ml_performance_Bigram.json'))\n",
    "table2 = performance_table(accuracy2)\n",
    "table2"
   ]
  },
  {
   "cell_type": "code",
   "execution_count": 30,
   "metadata": {
    "colab": {
     "base_uri": "https://localhost:8080/"
    },
    "executionInfo": {
     "elapsed": 26,
     "status": "ok",
     "timestamp": 1652590932087,
     "user": {
      "displayName": "James Bond",
      "userId": "11920866519642454256"
     },
     "user_tz": -360
    },
    "id": "rhT13j1Bhm-6",
    "outputId": "a4adeb3a-4c43-4d28-dd6c-0f79b01930b1"
   },
   "outputs": [
    {
     "name": "stdout",
     "output_type": "stream",
     "text": [
      "Highest Accuracy achieved by RF at = 74.3\n",
      "Highest F1-Score achieved by RF at = 74.3\n",
      "Highest Precision Score achieved by RF at = 74.3\n",
      "Highest Recall Score achieved by RF at = 76.67\n"
     ]
    }
   ],
   "source": [
    "print(f\"Highest Accuracy achieved by {table2.Accuracy.idxmax(axis = 0)} at = {max(table2.Accuracy)}\")\n",
    "print(f\"Highest F1-Score achieved by {table2['F1 Score'].idxmax(axis = 0)} at = {max(table2['F1 Score'] )}\")\n",
    "print(f\"Highest Precision Score achieved by {table2['Precision'].idxmax(axis = 0)} at = {max(table2['Precision'] )}\")\n",
    "print(f\"Highest Recall Score achieved by {table2['Recall'].idxmax(axis = 0)} at = {max(table['Recall'] )}\")"
   ]
  },
  {
   "cell_type": "code",
   "execution_count": 31,
   "metadata": {
    "colab": {
     "base_uri": "https://localhost:8080/",
     "height": 300
    },
    "executionInfo": {
     "elapsed": 25,
     "status": "ok",
     "timestamp": 1652590932088,
     "user": {
      "displayName": "James Bond",
      "userId": "11920866519642454256"
     },
     "user_tz": -360
    },
    "id": "Vn-LFlG1hFa4",
    "outputId": "4b49de64-bcc7-4540-cb2e-298b3daf78c6"
   },
   "outputs": [
    {
     "data": {
      "text/html": [
       "<div>\n",
       "<style scoped>\n",
       "    .dataframe tbody tr th:only-of-type {\n",
       "        vertical-align: middle;\n",
       "    }\n",
       "\n",
       "    .dataframe tbody tr th {\n",
       "        vertical-align: top;\n",
       "    }\n",
       "\n",
       "    .dataframe thead th {\n",
       "        text-align: right;\n",
       "    }\n",
       "</style>\n",
       "<table border=\"1\" class=\"dataframe\">\n",
       "  <thead>\n",
       "    <tr style=\"text-align: right;\">\n",
       "      <th></th>\n",
       "      <th>Accuracy</th>\n",
       "      <th>Precision</th>\n",
       "      <th>Recall</th>\n",
       "      <th>F1 Score</th>\n",
       "    </tr>\n",
       "  </thead>\n",
       "  <tbody>\n",
       "    <tr>\n",
       "      <th>LR</th>\n",
       "      <td>65.35</td>\n",
       "      <td>65.35</td>\n",
       "      <td>65.35</td>\n",
       "      <td>65.35</td>\n",
       "    </tr>\n",
       "    <tr>\n",
       "      <th>DT</th>\n",
       "      <td>46.75</td>\n",
       "      <td>46.75</td>\n",
       "      <td>46.75</td>\n",
       "      <td>46.75</td>\n",
       "    </tr>\n",
       "    <tr>\n",
       "      <th>RF</th>\n",
       "      <td>72.11</td>\n",
       "      <td>72.11</td>\n",
       "      <td>72.11</td>\n",
       "      <td>72.11</td>\n",
       "    </tr>\n",
       "    <tr>\n",
       "      <th>MNB</th>\n",
       "      <td>62.54</td>\n",
       "      <td>62.54</td>\n",
       "      <td>62.54</td>\n",
       "      <td>62.54</td>\n",
       "    </tr>\n",
       "    <tr>\n",
       "      <th>KNN</th>\n",
       "      <td>67.98</td>\n",
       "      <td>67.98</td>\n",
       "      <td>67.98</td>\n",
       "      <td>67.98</td>\n",
       "    </tr>\n",
       "    <tr>\n",
       "      <th>Linear SVM</th>\n",
       "      <td>42.02</td>\n",
       "      <td>42.02</td>\n",
       "      <td>42.02</td>\n",
       "      <td>42.02</td>\n",
       "    </tr>\n",
       "    <tr>\n",
       "      <th>RBF SVM</th>\n",
       "      <td>51.67</td>\n",
       "      <td>51.67</td>\n",
       "      <td>51.67</td>\n",
       "      <td>51.67</td>\n",
       "    </tr>\n",
       "    <tr>\n",
       "      <th>SGD</th>\n",
       "      <td>67.89</td>\n",
       "      <td>67.89</td>\n",
       "      <td>67.89</td>\n",
       "      <td>67.89</td>\n",
       "    </tr>\n",
       "  </tbody>\n",
       "</table>\n",
       "</div>"
      ],
      "text/plain": [
       "            Accuracy  Precision  Recall  F1 Score\n",
       "LR             65.35      65.35   65.35     65.35\n",
       "DT             46.75      46.75   46.75     46.75\n",
       "RF             72.11      72.11   72.11     72.11\n",
       "MNB            62.54      62.54   62.54     62.54\n",
       "KNN            67.98      67.98   67.98     67.98\n",
       "Linear SVM     42.02      42.02   42.02     42.02\n",
       "RBF SVM        51.67      51.67   51.67     51.67\n",
       "SGD            67.89      67.89   67.89     67.89"
      ]
     },
     "execution_count": 31,
     "metadata": {},
     "output_type": "execute_result"
    }
   ],
   "source": [
    "accuracy3 = json.load(open('../json/Bengali Hate Speech V2/ml_performance_Trigram.json'))\n",
    "table3 = performance_table(accuracy3)\n",
    "table3"
   ]
  },
  {
   "cell_type": "code",
   "execution_count": 32,
   "metadata": {
    "colab": {
     "base_uri": "https://localhost:8080/"
    },
    "executionInfo": {
     "elapsed": 26,
     "status": "ok",
     "timestamp": 1652590932090,
     "user": {
      "displayName": "James Bond",
      "userId": "11920866519642454256"
     },
     "user_tz": -360
    },
    "id": "pejGJgSyhrju",
    "outputId": "5b31c15d-ee6d-41d0-f1b9-bf827b071a49"
   },
   "outputs": [
    {
     "name": "stdout",
     "output_type": "stream",
     "text": [
      "Highest Accuracy achieved by RF at = 72.11\n",
      "Highest F1-Score achieved by RF at = 72.11\n",
      "Highest Precision Score achieved by RF at = 72.11\n",
      "Highest Recall Score achieved by RF at = 72.11\n"
     ]
    }
   ],
   "source": [
    "print(f\"Highest Accuracy achieved by {table3.Accuracy.idxmax(axis = 0)} at = {max(table3.Accuracy)}\")\n",
    "print(f\"Highest F1-Score achieved by {table3['F1 Score'].idxmax(axis = 0)} at = {max(table3['F1 Score'] )}\")\n",
    "print(f\"Highest Precision Score achieved by {table3['Precision'].idxmax(axis = 0)} at = {max(table3['Precision'] )}\")\n",
    "print(f\"Highest Recall Score achieved by {table3['Recall'].idxmax(axis = 0)} at = {max(table3['Recall'] )}\")"
   ]
  },
  {
   "cell_type": "code",
   "execution_count": 33,
   "metadata": {
    "colab": {
     "base_uri": "https://localhost:8080/"
    },
    "executionInfo": {
     "elapsed": 52447,
     "status": "ok",
     "timestamp": 1652591152728,
     "user": {
      "displayName": "James Bond",
      "userId": "11920866519642454256"
     },
     "user_tz": -360
    },
    "id": "enRW7aKahuDM",
    "outputId": "11e2e594-ed61-4ce5-8011-0c39068366e1"
   },
   "outputs": [
    {
     "name": "stderr",
     "output_type": "stream",
     "text": [
      "C:\\Users\\afrim\\.conda\\envs\\tensorflow1\\lib\\site-packages\\sklearn\\linear_model\\_stochastic_gradient.py:577: ConvergenceWarning: Maximum number of iteration reached before convergence. Consider increasing max_iter to improve the fit.\n",
      "  ConvergenceWarning)\n"
     ]
    },
    {
     "data": {
      "text/plain": [
       "SGDClassifier(loss='log', max_iter=5)"
      ]
     },
     "execution_count": 33,
     "metadata": {},
     "output_type": "execute_result"
    }
   ],
   "source": [
    "classifier1 = SGDClassifier(loss ='log',penalty='l2', max_iter=5)\n",
    "classifier1.fit(X_train, y_train)"
   ]
  },
  {
   "cell_type": "code",
   "execution_count": 34,
   "metadata": {
    "colab": {
     "base_uri": "https://localhost:8080/"
    },
    "executionInfo": {
     "elapsed": 13,
     "status": "ok",
     "timestamp": 1652591152729,
     "user": {
      "displayName": "James Bond",
      "userId": "11920866519642454256"
     },
     "user_tz": -360
    },
    "id": "En0aYsZMj6e5",
    "outputId": "46b8a87b-8186-402f-d3ca-1014d5226eca"
   },
   "outputs": [
    {
     "data": {
      "text/plain": [
       "array([1, 1, 1, 0, 0, 0, 1, 1, 1, 1])"
      ]
     },
     "execution_count": 34,
     "metadata": {},
     "output_type": "execute_result"
    }
   ],
   "source": [
    "y_pred = classifier1.predict(X_test)\n",
    "y_pred[:10]"
   ]
  },
  {
   "cell_type": "code",
   "execution_count": 35,
   "metadata": {
    "colab": {
     "base_uri": "https://localhost:8080/"
    },
    "executionInfo": {
     "elapsed": 709,
     "status": "ok",
     "timestamp": 1652591153428,
     "user": {
      "displayName": "James Bond",
      "userId": "11920866519642454256"
     },
     "user_tz": -360
    },
    "id": "nKtgcU9mj9ew",
    "outputId": "1707f319-94b0-42b1-81b2-dc084cbfe948"
   },
   "outputs": [
    {
     "name": "stdout",
     "output_type": "stream",
     "text": [
      "Train Accuracy is: 99.52%\n",
      "Test Accuracy is : 68.07%\n"
     ]
    }
   ],
   "source": [
    "print(f\"Train Accuracy is: {round(classifier1.score(X_train, y_train)*100,2)}%\")\n",
    "print(f\"Test Accuracy is : {round(classifier1.score(X_test, y_test)*100,2)}%\")"
   ]
  },
  {
   "cell_type": "code",
   "execution_count": 36,
   "metadata": {
    "colab": {
     "base_uri": "https://localhost:8080/"
    },
    "executionInfo": {
     "elapsed": 7,
     "status": "ok",
     "timestamp": 1652591153429,
     "user": {
      "displayName": "James Bond",
      "userId": "11920866519642454256"
     },
     "user_tz": -360
    },
    "id": "dfuD1vDuj_y3",
    "outputId": "a9bb7559-1efa-4e35-de07-b8887340bfff"
   },
   "outputs": [
    {
     "name": "stdout",
     "output_type": "stream",
     "text": [
      "              precision    recall  f1-score   support\n",
      "\n",
      "           0       0.81      0.74      0.77       348\n",
      "           1       0.59      0.98      0.74       438\n",
      "           2       0.95      0.21      0.35       163\n",
      "           3       0.90      0.29      0.44       191\n",
      "\n",
      "    accuracy                           0.68      1140\n",
      "   macro avg       0.81      0.56      0.58      1140\n",
      "weighted avg       0.76      0.68      0.64      1140\n",
      "\n"
     ]
    }
   ],
   "source": [
    "from sklearn.metrics import classification_report,confusion_matrix\n",
    "print(classification_report(y_test,y_pred))"
   ]
  },
  {
   "cell_type": "code",
   "execution_count": 37,
   "metadata": {
    "colab": {
     "base_uri": "https://localhost:8080/",
     "height": 334
    },
    "executionInfo": {
     "elapsed": 748,
     "status": "ok",
     "timestamp": 1652591154174,
     "user": {
      "displayName": "James Bond",
      "userId": "11920866519642454256"
     },
     "user_tz": -360
    },
    "id": "5PJomm14kJgV",
    "outputId": "8b32cd13-2a6c-4152-ce25-2c9937b65901"
   },
   "outputs": [
    {
     "data": {
      "image/png": "[encoded data removed]",
      "text/plain": [
       "<Figure size 360x360 with 2 Axes>"
      ]
     },
     "metadata": {},
     "output_type": "display_data"
    }
   ],
   "source": [
    "conf_mat = confusion_matrix(y_test,y_pred)\n",
    "fig, ax = plt.subplots(figsize=(5,5))\n",
    "sns.heatmap(conf_mat, annot=True, fmt='d')\n",
    "plt.ylabel('Actual')\n",
    "plt.xlabel('Predicted')\n",
    "plt.show()"
   ]
  },
  {
   "cell_type": "code",
   "execution_count": null,
   "metadata": {},
   "outputs": [],
   "source": []
  }
 ],
 "metadata": {
  "colab": {
   "authorship_tag": "ABX9TyOqbFuUl+k/iFIaYnRthsJV",
   "collapsed_sections": [],
   "mount_file_id": "1PUEJiXvkkNlrs7Qc9tJ4YoqySly-8wEA",
   "name": "bengali_hate_v2_Tfidf.ipynb",
   "provenance": [
    {
     "file_id": "11uTABp8y_FzQ7fTUqHunxXB5VhxbCPbq",
     "timestamp": 1652590343914
    },
    {
     "file_id": "1gC8rntp6ntN6R8zTV7gYqS_wjH5W3394",
     "timestamp": 1652573778877
    }
   ]
  },
  "kernelspec": {
   "display_name": "Python 3",
   "language": "python",
   "name": "python3"
  },
  "language_info": {
   "codemirror_mode": {
    "name": "ipython",
    "version": 3
   },
   "file_extension": ".py",
   "mimetype": "text/x-python",
   "name": "python",
   "nbconvert_exporter": "python",
   "pygments_lexer": "ipython3",
   "version": "3.7.10"
  }
 },
 "nbformat": 4,
 "nbformat_minor": 1
}
